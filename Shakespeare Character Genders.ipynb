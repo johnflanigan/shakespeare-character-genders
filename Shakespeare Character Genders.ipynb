{
 "cells": [
  {
   "cell_type": "markdown",
   "metadata": {},
   "source": [
    "# Shakespeare Character Genders"
   ]
  },
  {
   "cell_type": "markdown",
   "metadata": {},
   "source": [
    "## Imports"
   ]
  },
  {
   "cell_type": "code",
   "execution_count": 1,
   "metadata": {},
   "outputs": [],
   "source": [
    "from os import listdir\n",
    "import xml.etree.ElementTree as ET\n",
    "from bs4 import BeautifulSoup"
   ]
  },
  {
   "cell_type": "markdown",
   "metadata": {},
   "source": [
    "## Data Loading"
   ]
  },
  {
   "cell_type": "code",
   "execution_count": 2,
   "metadata": {},
   "outputs": [
    {
     "data": {
      "text/plain": [
       "['tim.xml',\n",
       " 'ven.xml',\n",
       " 'luc.xml',\n",
       " 'lc.xml',\n",
       " 'tgv.xml',\n",
       " '.DS_Store',\n",
       " 'son.xml',\n",
       " 'mv.xml',\n",
       " 'lr.xml',\n",
       " 'tmp.xml',\n",
       " 'r2.xml',\n",
       " 'ayl.xml',\n",
       " 'r3.xml',\n",
       " 'jc.xml',\n",
       " 'cym.xml',\n",
       " 'aww.xml',\n",
       " 'cor.xml',\n",
       " 'ant.xml',\n",
       " 'mac.xml',\n",
       " 'rom.xml',\n",
       " 'h8.xml',\n",
       " 'h5.xml',\n",
       " '1h4.xml',\n",
       " '3h6.xml',\n",
       " 'shr.xml',\n",
       " 'pp.xml',\n",
       " '1h6.xml',\n",
       " 'jn.xml',\n",
       " 'wiv.xml',\n",
       " 'mnd.xml',\n",
       " 'oth.xml',\n",
       " 'tro.xml',\n",
       " 'tn.xml',\n",
       " 'err.xml',\n",
       " '2h4.xml',\n",
       " 'wt.xml',\n",
       " 'mm.xml',\n",
       " '2h6.xml',\n",
       " 'ado.xml',\n",
       " 'tit.xml',\n",
       " 'pht.xml',\n",
       " 'per.xml',\n",
       " 'lll.xml',\n",
       " 'ham.xml']"
      ]
     },
     "execution_count": 2,
     "metadata": {},
     "output_type": "execute_result"
    }
   ],
   "source": [
    "files = [f for f in listdir('Archive/Globe_Shakespeare')]\n",
    "files"
   ]
  },
  {
   "cell_type": "code",
   "execution_count": 3,
   "metadata": {},
   "outputs": [
    {
     "name": "stdout",
     "output_type": "stream",
     "text": [
      "<title>Romeo and Juliet</title>\n",
      "Romeo and Juliet\n"
     ]
    }
   ],
   "source": [
    "tei_doc = 'Archive/Globe_Shakespeare/rom.xml'\n",
    "with open(tei_doc, 'r') as tei:\n",
    "    soup = BeautifulSoup(tei, 'lxml')\n",
    "    print(soup.title)\n",
    "    print(soup.title.getText())"
   ]
  }
 ],
 "metadata": {
  "kernelspec": {
   "display_name": "Python 3",
   "language": "python",
   "name": "python3"
  },
  "language_info": {
   "codemirror_mode": {
    "name": "ipython",
    "version": 3
   },
   "file_extension": ".py",
   "mimetype": "text/x-python",
   "name": "python",
   "nbconvert_exporter": "python",
   "pygments_lexer": "ipython3",
   "version": "3.7.0"
  }
 },
 "nbformat": 4,
 "nbformat_minor": 2
}
